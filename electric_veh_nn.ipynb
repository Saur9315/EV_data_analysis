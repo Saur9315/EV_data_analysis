{
 "cells": [
  {
   "cell_type": "code",
   "execution_count": 1,
   "metadata": {
    "collapsed": true
   },
   "outputs": [],
   "source": [
    "import numpy as np\n",
    "import pandas as pd\n",
    "import matplotlib.pyplot as plt\n",
    "import seaborn as sns\n",
    "\n",
    "import torch\n",
    "from torch.nn import Sequential, Linear\n",
    "from torch.optim import SGD"
   ]
  },
  {
   "cell_type": "code",
   "execution_count": 2,
   "outputs": [
    {
     "data": {
      "text/plain": "   Model Year   Make    Model  Electric Range  Base MSRP  \\\n0        2013  TESLA  MODEL S           208.0    69900.0   \n1        2018  VOLVO     XC60            17.0    52900.0   \n2        2013  TESLA  MODEL S           208.0    69900.0   \n3        2014  TESLA  MODEL S           208.0    69900.0   \n4        2018    BMW     330E            14.0    45600.0   \n\n                    Electric Vehicle Type  \\\n0          Battery Electric Vehicle (BEV)   \n1  Plug-in Hybrid Electric Vehicle (PHEV)   \n2          Battery Electric Vehicle (BEV)   \n3          Battery Electric Vehicle (BEV)   \n4  Plug-in Hybrid Electric Vehicle (PHEV)   \n\n  Clean Alternative Fuel Vehicle (CAFV) Eligibility  Legislative District  \\\n0           Clean Alternative Fuel Vehicle Eligible                  21.0   \n1             Not eligible due to low battery range                  10.0   \n2           Clean Alternative Fuel Vehicle Eligible                  40.0   \n3           Clean Alternative Fuel Vehicle Eligible                  17.0   \n4             Not eligible due to low battery range                  45.0   \n\n                                    Electric Utility  \n0                             PUGET SOUND ENERGY INC  \n1                             PUGET SOUND ENERGY INC  \n2                             PUGET SOUND ENERGY INC  \n3  BONNEVILLE POWER ADMINISTRATION||PUD NO 1 OF C...  \n4      PUGET SOUND ENERGY INC||CITY OF TACOMA - (WA)  ",
      "text/html": "<div>\n<style scoped>\n    .dataframe tbody tr th:only-of-type {\n        vertical-align: middle;\n    }\n\n    .dataframe tbody tr th {\n        vertical-align: top;\n    }\n\n    .dataframe thead th {\n        text-align: right;\n    }\n</style>\n<table border=\"1\" class=\"dataframe\">\n  <thead>\n    <tr style=\"text-align: right;\">\n      <th></th>\n      <th>Model Year</th>\n      <th>Make</th>\n      <th>Model</th>\n      <th>Electric Range</th>\n      <th>Base MSRP</th>\n      <th>Electric Vehicle Type</th>\n      <th>Clean Alternative Fuel Vehicle (CAFV) Eligibility</th>\n      <th>Legislative District</th>\n      <th>Electric Utility</th>\n    </tr>\n  </thead>\n  <tbody>\n    <tr>\n      <th>0</th>\n      <td>2013</td>\n      <td>TESLA</td>\n      <td>MODEL S</td>\n      <td>208.0</td>\n      <td>69900.0</td>\n      <td>Battery Electric Vehicle (BEV)</td>\n      <td>Clean Alternative Fuel Vehicle Eligible</td>\n      <td>21.0</td>\n      <td>PUGET SOUND ENERGY INC</td>\n    </tr>\n    <tr>\n      <th>1</th>\n      <td>2018</td>\n      <td>VOLVO</td>\n      <td>XC60</td>\n      <td>17.0</td>\n      <td>52900.0</td>\n      <td>Plug-in Hybrid Electric Vehicle (PHEV)</td>\n      <td>Not eligible due to low battery range</td>\n      <td>10.0</td>\n      <td>PUGET SOUND ENERGY INC</td>\n    </tr>\n    <tr>\n      <th>2</th>\n      <td>2013</td>\n      <td>TESLA</td>\n      <td>MODEL S</td>\n      <td>208.0</td>\n      <td>69900.0</td>\n      <td>Battery Electric Vehicle (BEV)</td>\n      <td>Clean Alternative Fuel Vehicle Eligible</td>\n      <td>40.0</td>\n      <td>PUGET SOUND ENERGY INC</td>\n    </tr>\n    <tr>\n      <th>3</th>\n      <td>2014</td>\n      <td>TESLA</td>\n      <td>MODEL S</td>\n      <td>208.0</td>\n      <td>69900.0</td>\n      <td>Battery Electric Vehicle (BEV)</td>\n      <td>Clean Alternative Fuel Vehicle Eligible</td>\n      <td>17.0</td>\n      <td>BONNEVILLE POWER ADMINISTRATION||PUD NO 1 OF C...</td>\n    </tr>\n    <tr>\n      <th>4</th>\n      <td>2018</td>\n      <td>BMW</td>\n      <td>330E</td>\n      <td>14.0</td>\n      <td>45600.0</td>\n      <td>Plug-in Hybrid Electric Vehicle (PHEV)</td>\n      <td>Not eligible due to low battery range</td>\n      <td>45.0</td>\n      <td>PUGET SOUND ENERGY INC||CITY OF TACOMA - (WA)</td>\n    </tr>\n  </tbody>\n</table>\n</div>"
     },
     "execution_count": 2,
     "metadata": {},
     "output_type": "execute_result"
    }
   ],
   "source": [
    "df = pd.read_csv('datasets/electric_veh_reduced.csv')\n",
    "df.head()"
   ],
   "metadata": {
    "collapsed": false,
    "pycharm": {
     "name": "#%%\n"
    }
   }
  },
  {
   "cell_type": "code",
   "execution_count": 3,
   "outputs": [
    {
     "name": "stdout",
     "output_type": "stream",
     "text": [
      "(3407, 13)\n"
     ]
    },
    {
     "data": {
      "text/plain": "   Model Year  Electric Range  Make_BMW  Make_CADILLAC  Make_CHRYSLER  \\\n0        2013           208.0         0              0              0   \n1        2018            17.0         0              0              0   \n2        2013           208.0         0              0              0   \n3        2014           208.0         0              0              0   \n4        2018            14.0         1              0              0   \n5        2019            17.0         0              0              0   \n6        2013           208.0         0              0              0   \n7        2013           208.0         0              0              0   \n8        2014           208.0         0              0              0   \n9        2014           208.0         0              0              0   \n\n   Make_FISKER  Make_KIA  Make_MINI  Make_PORSCHE  Make_SUBARU  Make_TESLA  \\\n0            0         0          0             0            0           1   \n1            0         0          0             0            0           0   \n2            0         0          0             0            0           1   \n3            0         0          0             0            0           1   \n4            0         0          0             0            0           0   \n5            0         0          0             0            0           0   \n6            0         0          0             0            0           1   \n7            0         0          0             0            0           1   \n8            0         0          0             0            0           1   \n9            0         0          0             0            0           1   \n\n   Make_VOLVO  Make_WHEEGO ELECTRIC CARS  \n0           0                          0  \n1           1                          0  \n2           0                          0  \n3           0                          0  \n4           0                          0  \n5           1                          0  \n6           0                          0  \n7           0                          0  \n8           0                          0  \n9           0                          0  ",
      "text/html": "<div>\n<style scoped>\n    .dataframe tbody tr th:only-of-type {\n        vertical-align: middle;\n    }\n\n    .dataframe tbody tr th {\n        vertical-align: top;\n    }\n\n    .dataframe thead th {\n        text-align: right;\n    }\n</style>\n<table border=\"1\" class=\"dataframe\">\n  <thead>\n    <tr style=\"text-align: right;\">\n      <th></th>\n      <th>Model Year</th>\n      <th>Electric Range</th>\n      <th>Make_BMW</th>\n      <th>Make_CADILLAC</th>\n      <th>Make_CHRYSLER</th>\n      <th>Make_FISKER</th>\n      <th>Make_KIA</th>\n      <th>Make_MINI</th>\n      <th>Make_PORSCHE</th>\n      <th>Make_SUBARU</th>\n      <th>Make_TESLA</th>\n      <th>Make_VOLVO</th>\n      <th>Make_WHEEGO ELECTRIC CARS</th>\n    </tr>\n  </thead>\n  <tbody>\n    <tr>\n      <th>0</th>\n      <td>2013</td>\n      <td>208.0</td>\n      <td>0</td>\n      <td>0</td>\n      <td>0</td>\n      <td>0</td>\n      <td>0</td>\n      <td>0</td>\n      <td>0</td>\n      <td>0</td>\n      <td>1</td>\n      <td>0</td>\n      <td>0</td>\n    </tr>\n    <tr>\n      <th>1</th>\n      <td>2018</td>\n      <td>17.0</td>\n      <td>0</td>\n      <td>0</td>\n      <td>0</td>\n      <td>0</td>\n      <td>0</td>\n      <td>0</td>\n      <td>0</td>\n      <td>0</td>\n      <td>0</td>\n      <td>1</td>\n      <td>0</td>\n    </tr>\n    <tr>\n      <th>2</th>\n      <td>2013</td>\n      <td>208.0</td>\n      <td>0</td>\n      <td>0</td>\n      <td>0</td>\n      <td>0</td>\n      <td>0</td>\n      <td>0</td>\n      <td>0</td>\n      <td>0</td>\n      <td>1</td>\n      <td>0</td>\n      <td>0</td>\n    </tr>\n    <tr>\n      <th>3</th>\n      <td>2014</td>\n      <td>208.0</td>\n      <td>0</td>\n      <td>0</td>\n      <td>0</td>\n      <td>0</td>\n      <td>0</td>\n      <td>0</td>\n      <td>0</td>\n      <td>0</td>\n      <td>1</td>\n      <td>0</td>\n      <td>0</td>\n    </tr>\n    <tr>\n      <th>4</th>\n      <td>2018</td>\n      <td>14.0</td>\n      <td>1</td>\n      <td>0</td>\n      <td>0</td>\n      <td>0</td>\n      <td>0</td>\n      <td>0</td>\n      <td>0</td>\n      <td>0</td>\n      <td>0</td>\n      <td>0</td>\n      <td>0</td>\n    </tr>\n    <tr>\n      <th>5</th>\n      <td>2019</td>\n      <td>17.0</td>\n      <td>0</td>\n      <td>0</td>\n      <td>0</td>\n      <td>0</td>\n      <td>0</td>\n      <td>0</td>\n      <td>0</td>\n      <td>0</td>\n      <td>0</td>\n      <td>1</td>\n      <td>0</td>\n    </tr>\n    <tr>\n      <th>6</th>\n      <td>2013</td>\n      <td>208.0</td>\n      <td>0</td>\n      <td>0</td>\n      <td>0</td>\n      <td>0</td>\n      <td>0</td>\n      <td>0</td>\n      <td>0</td>\n      <td>0</td>\n      <td>1</td>\n      <td>0</td>\n      <td>0</td>\n    </tr>\n    <tr>\n      <th>7</th>\n      <td>2013</td>\n      <td>208.0</td>\n      <td>0</td>\n      <td>0</td>\n      <td>0</td>\n      <td>0</td>\n      <td>0</td>\n      <td>0</td>\n      <td>0</td>\n      <td>0</td>\n      <td>1</td>\n      <td>0</td>\n      <td>0</td>\n    </tr>\n    <tr>\n      <th>8</th>\n      <td>2014</td>\n      <td>208.0</td>\n      <td>0</td>\n      <td>0</td>\n      <td>0</td>\n      <td>0</td>\n      <td>0</td>\n      <td>0</td>\n      <td>0</td>\n      <td>0</td>\n      <td>1</td>\n      <td>0</td>\n      <td>0</td>\n    </tr>\n    <tr>\n      <th>9</th>\n      <td>2014</td>\n      <td>208.0</td>\n      <td>0</td>\n      <td>0</td>\n      <td>0</td>\n      <td>0</td>\n      <td>0</td>\n      <td>0</td>\n      <td>0</td>\n      <td>0</td>\n      <td>1</td>\n      <td>0</td>\n      <td>0</td>\n    </tr>\n  </tbody>\n</table>\n</div>"
     },
     "execution_count": 3,
     "metadata": {},
     "output_type": "execute_result"
    }
   ],
   "source": [
    "X = df[['Model Year', 'Electric Range', 'Make']]\n",
    "y = df['Base MSRP']\n",
    "\n",
    "X_encoded = pd.get_dummies(X, columns=['Make'])\n",
    "# X_encoded = X_encoded.drop('Make', axis=1)\n",
    "print(X_encoded.shape)\n",
    "X_encoded.head(10)"
   ],
   "metadata": {
    "collapsed": false,
    "pycharm": {
     "name": "#%%\n"
    }
   }
  },
  {
   "cell_type": "markdown",
   "source": [
    "# Regression Model with PyTorch"
   ],
   "metadata": {
    "collapsed": false
   }
  },
  {
   "cell_type": "code",
   "execution_count": 4,
   "outputs": [
    {
     "name": "stdout",
     "output_type": "stream",
     "text": [
      "cuda\n",
      "(2725, 13) (2725,)\n"
     ]
    }
   ],
   "source": [
    "import torch\n",
    "import torch.nn as nn\n",
    "import torch.optim as optim\n",
    "from torch.utils.data import DataLoader, TensorDataset\n",
    "from sklearn.model_selection import train_test_split\n",
    "\n",
    "# setting device to gpu\n",
    "device = torch.device('cuda' if torch.cuda.is_available() else 'cpu')\n",
    "print(device)\n",
    "\n",
    "\n",
    "X_train, X_temp, y_train, y_temp = train_test_split(X_encoded, y, test_size=0.2, random_state=42)\n",
    "\n",
    "# splitting the temporary set into validation and test sets\n",
    "X_val, X_test, y_val, y_test = train_test_split(X_temp, y_temp, test_size=0.5, random_state=42)\n",
    "\n",
    "print(X_train.shape, y_train.shape)\n",
    "X_train_np = X_train.to_numpy()\n",
    "y_train_np = y_train.to_numpy()\n",
    "X_val_np = X_val.to_numpy()\n",
    "y_val_np = y_val.to_numpy()\n",
    "# Convert NumPy arrays to PyTorch tensors\n",
    "features_tensor = torch.FloatTensor(X_train_np)\n",
    "labels_tensor = torch.FloatTensor(y_train_np)\n",
    "X_val_tensor = torch.FloatTensor(X_val_np)\n",
    "y_val_tensor = torch.FloatTensor(y_val_np)\n",
    "\n",
    "# Create a DataLoader\n",
    "dataset = TensorDataset(features_tensor, labels_tensor)\n",
    "dataloader = DataLoader(dataset, batch_size=64, shuffle=True)\n",
    "# X_train.head()"
   ],
   "metadata": {
    "collapsed": false,
    "pycharm": {
     "name": "#%%\n"
    }
   }
  },
  {
   "cell_type": "code",
   "execution_count": 6,
   "outputs": [
    {
     "name": "stdout",
     "output_type": "stream",
     "text": [
      "ElectricVehicleModel(\n",
      "  (l1): Linear(in_features=13, out_features=128, bias=True)\n",
      "  (relu1): ReLU()\n",
      "  (l2): Linear(in_features=128, out_features=64, bias=True)\n",
      "  (relu2): ReLU()\n",
      "  (output_layer): Linear(in_features=64, out_features=1, bias=True)\n",
      ")\n",
      "Epoch 100/1000, Loss: 149276400.00, Val Loss: 152701472.00, MAE: 8736.19\n",
      "Epoch 200/1000, Loss: 204777776.00, Val Loss: 133462720.00, MAE: 8559.39\n",
      "Epoch 300/1000, Loss: 16668193.00, Val Loss: 53498584.00, MAE: 3038.41\n",
      "Epoch 400/1000, Loss: 31399462.00, Val Loss: 52216312.00, MAE: 4252.31\n",
      "Epoch 500/1000, Loss: 34961808.00, Val Loss: 41452060.00, MAE: 2595.39\n",
      "Epoch 600/1000, Loss: 53622752.00, Val Loss: 37667188.00, MAE: 2812.85\n",
      "Epoch 700/1000, Loss: 28781818.00, Val Loss: 35620120.00, MAE: 2798.92\n",
      "Epoch 800/1000, Loss: 65147788.00, Val Loss: 36830744.00, MAE: 3154.80\n",
      "Epoch 900/1000, Loss: 5894659.50, Val Loss: 32440726.00, MAE: 2161.74\n",
      "Epoch 1000/1000, Loss: 51803524.00, Val Loss: 32235808.00, MAE: 2078.54\n"
     ]
    }
   ],
   "source": [
    "class ElectricVehicleModel(nn.Module):\n",
    "    def __init__(self, input_size):\n",
    "        super(ElectricVehicleModel, self).__init__()\n",
    "        self.l1 = nn.Linear(input_size, 128)\n",
    "        self.relu1 = nn.ReLU()\n",
    "        self.l2 = nn.Linear(128, 64)\n",
    "        self.relu2 = nn.ReLU()\n",
    "        self.output_layer = nn.Linear(64, 1)\n",
    "\n",
    "    def forward(self, x):\n",
    "        x = self.relu1(self.l1(x))\n",
    "        x = self.relu2(self.l2(x))\n",
    "        x = self.output_layer(x)\n",
    "        return x\n",
    "\n",
    "# instantiate the model\n",
    "model = ElectricVehicleModel(X_train.shape[1])\n",
    "# Define loss function and optimizer\n",
    "criterion = nn.MSELoss()\n",
    "optimizer = optim.Adam(model.parameters(), lr=0.001)\n",
    "\n",
    "# Move model to GPU if available\n",
    "model.to(device)\n",
    "features_tensor = features_tensor.to(device)\n",
    "labels_tensor = labels_tensor.to(device)\n",
    "\n",
    "# Print the model architecture\n",
    "print(model)\n",
    "\n",
    "# Lists to store parameters and loss history\n",
    "parameters_history = []\n",
    "loss_history = []\n",
    "loss_history_val = []\n",
    "loss_history_mae = []\n",
    "best_loss = float('inf')\n",
    "best_parameters = None\n",
    "\n",
    "for param in model.parameters():\n",
    "    param.to(device)\n",
    "\n",
    "# Training loop\n",
    "num_epochs = 1000\n",
    "for epoch in range(num_epochs):\n",
    "    for batch_features, batch_labels in dataloader:\n",
    "        batch_features, batch_labels = batch_features.to(device), batch_labels.to(device)\n",
    "        optimizer.zero_grad()\n",
    "        outputs = model(batch_features)\n",
    "        loss = criterion(outputs, batch_labels.view(-1, 1))\n",
    "        loss.backward()\n",
    "        optimizer.step()\n",
    "    # Store parameters and loss at the end of each epoch\n",
    "    if loss.item() < best_loss:\n",
    "        best_loss = loss.item()\n",
    "        best_parameters = [param.data.clone() for param in model.parameters()]\n",
    "    # parameters_history.append([param.data.clone() for param in model.parameters()])\n",
    "    loss_history.append(loss.item())\n",
    "\n",
    "    # Validation\n",
    "    model.eval()\n",
    "    with torch.no_grad():\n",
    "        val_outputs = model(X_val_tensor.to(device))\n",
    "        val_loss = criterion(val_outputs.squeeze(), y_val_tensor.to(device))\n",
    "        mae_loss = nn.L1Loss()(val_outputs.squeeze(), y_val_tensor.to(device))\n",
    "        loss_history_mae.append(mae_loss.item())\n",
    "        loss_history_val.append(val_loss.item())\n",
    "\n",
    "    if (epoch+1) % 100 == 0:\n",
    "        print(f'Epoch {epoch+1}/{num_epochs}, Loss: {loss.item():.2f}, Val Loss: {val_loss.item():.2f}, MAE: {mae_loss.item():.2f}')"
   ],
   "metadata": {
    "collapsed": false,
    "pycharm": {
     "name": "#%%\n"
    }
   }
  },
  {
   "cell_type": "code",
   "execution_count": 9,
   "outputs": [
    {
     "data": {
      "text/plain": "<Figure size 1080x360 with 3 Axes>",
      "image/png": "[encoded data removed]"
     },
     "metadata": {
      "needs_background": "light"
     },
     "output_type": "display_data"
    }
   ],
   "source": [
    "fig, ax = plt.subplots(1, 3, figsize=(15, 5))\n",
    "\n",
    "sns.lineplot(x=range(num_epochs), y=loss_history, ax=ax[0])\n",
    "ax[0].set_title('Training Loss Over Epochs')\n",
    "ax[0].set_xlabel('Epochs')\n",
    "ax[0].set_ylabel('Loss')\n",
    "sns.lineplot(x=range(num_epochs), y=loss_history_val, ax=ax[1])\n",
    "ax[1].set_title('Validation Loss Over Epochs')\n",
    "ax[1].set_xlabel('Epochs')\n",
    "ax[1].set_ylabel('Loss')\n",
    "sns.lineplot(x=range(num_epochs), y=loss_history_mae, ax=ax[2])\n",
    "ax[2].set_title('MAE Over Epochs')\n",
    "ax[2].set_xlabel('Epochs')\n",
    "ax[2].set_ylabel('MAE')\n",
    "fig.tight_layout()\n",
    "plt.show()"
   ],
   "metadata": {
    "collapsed": false,
    "pycharm": {
     "name": "#%%\n"
    }
   }
  },
  {
   "cell_type": "code",
   "execution_count": 10,
   "outputs": [
    {
     "name": "stdout",
     "output_type": "stream",
     "text": [
      "----------------------------------------------------------------\n",
      "        Layer (type)               Output Shape         Param #\n",
      "================================================================\n",
      "            Linear-1               [-1, 1, 128]           1,792\n",
      "              ReLU-2               [-1, 1, 128]               0\n",
      "            Linear-3                [-1, 1, 64]           8,256\n",
      "              ReLU-4                [-1, 1, 64]               0\n",
      "            Linear-5                 [-1, 1, 1]              65\n",
      "================================================================\n",
      "Total params: 10,113\n",
      "Trainable params: 10,113\n",
      "Non-trainable params: 0\n",
      "----------------------------------------------------------------\n",
      "Input size (MB): 0.00\n",
      "Forward/backward pass size (MB): 0.00\n",
      "Params size (MB): 0.04\n",
      "Estimated Total Size (MB): 0.04\n",
      "----------------------------------------------------------------\n"
     ]
    }
   ],
   "source": [
    "from torchsummary import summary\n",
    "\n",
    "# model summary\n",
    "summary(model, input_size=(1, 13))"
   ],
   "metadata": {
    "collapsed": false,
    "pycharm": {
     "name": "#%%\n"
    }
   }
  },
  {
   "cell_type": "code",
   "execution_count": 11,
   "outputs": [
    {
     "name": "stdout",
     "output_type": "stream",
     "text": [
      "Parameter name: l1.weight, Shape: torch.Size([128, 13])\n",
      "Parameter containing:\n",
      "tensor([[ 1.1443e-01, -6.1207e-01,  2.0325e+00,  ...,  1.0464e+01,\n",
      "          3.6743e+00, -8.8783e+00],\n",
      "        [-1.4033e-01, -1.0127e-01, -2.1863e-01,  ..., -2.3039e-01,\n",
      "         -1.9214e-01,  1.9127e-01],\n",
      "        [-1.9252e-01, -2.1449e-01, -8.0506e-02,  ..., -2.3133e-01,\n",
      "          6.5000e-02, -9.6814e-02],\n",
      "        ...,\n",
      "        [-5.2231e-02, -7.1039e-02, -1.7502e-01,  ...,  3.9562e-02,\n",
      "         -2.7126e-01, -1.2229e-01],\n",
      "        [ 7.8941e-03, -9.1646e-02,  2.2478e+00,  ...,  1.0912e+01,\n",
      "          3.5325e+00, -7.1868e+00],\n",
      "        [-7.4708e-02, -2.6531e-01, -2.3363e-02,  ...,  1.3577e-01,\n",
      "          1.9460e-01,  1.4586e-01]], device='cuda:0', requires_grad=True)\n",
      "\n",
      "Parameter name: l1.bias, Shape: torch.Size([128])\n",
      "Parameter containing:\n",
      "tensor([-2.2411e-01,  5.6264e-02,  1.2858e-01, -1.9725e-01, -1.3329e-02,\n",
      "        -1.3858e-01,  7.6099e-02, -2.1974e-01,  2.2783e-01, -1.4336e-01,\n",
      "         1.9709e-01, -2.1913e-01,  1.6914e-01,  2.5144e-01,  1.0654e-01,\n",
      "         8.2541e-02,  1.3674e-01, -1.8463e-01, -1.1651e-01, -1.6574e-01,\n",
      "         2.1932e-01,  1.6252e-01,  5.7318e-03, -2.4263e-01,  1.6617e-01,\n",
      "         8.1663e-02,  2.6924e-01,  1.8614e-01,  1.8115e-01,  1.4791e-01,\n",
      "         2.4836e-01,  2.0614e-01,  1.5803e-01, -1.2394e-01, -5.0388e-02,\n",
      "        -2.0554e-01,  1.2706e-01, -2.6328e-01, -2.5578e-01,  1.7350e-03,\n",
      "        -1.2279e-01, -4.0569e-02, -1.1809e-01, -2.0834e-02, -3.3099e-02,\n",
      "        -1.6416e-01,  4.2517e-02, -3.8252e-02, -2.8206e-01,  1.3112e-01,\n",
      "        -5.1719e-02,  1.3717e-02, -1.5081e-01,  2.0844e-01, -1.8362e-01,\n",
      "        -1.5771e-01, -1.1297e-01, -2.6612e-01,  2.5696e-01,  2.6058e-01,\n",
      "        -2.4451e-01, -4.6084e-02,  2.6393e-01, -1.2803e-01,  1.5503e-01,\n",
      "        -3.0875e-01,  6.6329e-03,  1.1764e-01, -2.2784e-01,  1.7575e-01,\n",
      "         1.3219e-01,  2.5581e-02,  1.6345e-01,  1.1963e-02, -4.7923e-02,\n",
      "         1.0459e-01, -1.3354e-01,  1.0460e-01, -2.7660e-01,  2.5862e-02,\n",
      "         1.1873e-01, -1.3304e-02,  1.1524e-02,  8.9289e-02, -1.2546e-01,\n",
      "         1.8526e-01, -6.6388e-02,  2.0345e-01,  1.0400e-01, -6.6886e-02,\n",
      "        -1.7527e-04,  1.0430e-02,  1.4771e-01,  2.2406e-01, -1.9992e-02,\n",
      "        -8.5103e-02,  7.5195e-02, -4.6957e-02,  2.5149e-01,  3.3221e-02,\n",
      "        -2.2784e-01, -2.1232e-02, -7.8976e-02,  2.5677e-01, -1.5217e-01,\n",
      "        -2.7345e-01, -1.0090e-01,  1.9245e-01,  2.1616e-01,  2.0838e-01,\n",
      "        -2.2969e-01,  8.3016e-02,  1.7951e-01,  2.0745e-01, -5.6632e-02,\n",
      "        -2.7525e-01,  5.4582e-02, -8.2245e-02, -1.3094e-01,  1.4302e-01,\n",
      "         1.7703e-01, -9.1669e-02, -2.0198e-01,  2.3269e-01,  4.6318e-02,\n",
      "        -1.7054e-02,  7.5452e-02,  2.4368e-01], device='cuda:0',\n",
      "       requires_grad=True)\n",
      "\n",
      "Parameter name: l2.weight, Shape: torch.Size([64, 128])\n",
      "Parameter containing:\n",
      "tensor([[-0.0182, -0.0284,  0.0703,  ..., -0.0226, -0.0627, -0.0057],\n",
      "        [ 0.6484, -0.0559, -0.0474,  ...,  0.0266,  1.5329, -0.0391],\n",
      "        [-0.0572,  0.0752, -0.0401,  ...,  0.0750,  0.0224, -0.0167],\n",
      "        ...,\n",
      "        [ 0.0246, -0.0085, -0.0291,  ...,  0.0494, -0.0099,  0.0847],\n",
      "        [ 0.0335, -0.0073, -0.0719,  ...,  0.0705,  0.0777,  0.0534],\n",
      "        [-0.0221, -0.0458, -0.0590,  ...,  0.0190,  0.0423,  0.0066]],\n",
      "       device='cuda:0', requires_grad=True)\n",
      "\n",
      "Parameter name: l2.bias, Shape: torch.Size([64])\n",
      "Parameter containing:\n",
      "tensor([ 5.3199e-02, -1.2757e-02, -2.8877e-02, -1.5467e-01,  4.3567e-02,\n",
      "        -5.8360e-02,  4.6049e-02, -4.8704e-02,  6.6888e-03, -1.1239e-01,\n",
      "        -1.5681e-02, -8.1166e-02,  5.4859e-02, -2.8847e-02,  9.2375e-03,\n",
      "        -6.2763e-02,  2.7235e-02,  8.7371e-03,  5.5302e-02, -1.6686e-01,\n",
      "         7.6058e-02, -4.3377e-02, -5.4575e-02,  7.3880e-03, -1.4040e-01,\n",
      "        -7.4132e-02, -5.9814e-02,  7.0711e-02, -1.2395e-01, -5.0562e-02,\n",
      "         1.7560e-02,  3.4614e-02, -7.3681e-02,  1.0582e+00, -6.6880e-02,\n",
      "         4.8441e-02, -5.9980e-02,  2.5344e-02,  1.6152e-02, -4.0860e-02,\n",
      "        -6.8333e-03,  3.7522e-02, -1.3733e-01,  2.8173e-02,  3.2307e-02,\n",
      "        -1.0802e-02, -1.1451e-01, -1.3845e-03, -1.3183e-01, -1.3092e-01,\n",
      "         1.7634e-02, -4.5146e-02, -7.1062e-02,  6.3732e-02,  5.3822e-03,\n",
      "         4.4894e-02, -9.5139e-02, -1.0650e-01,  5.6157e-02, -5.9181e-02,\n",
      "         4.9839e-02, -5.1668e-02,  6.6164e-02,  8.0338e-04], device='cuda:0',\n",
      "       requires_grad=True)\n",
      "\n",
      "Parameter name: output_layer.weight, Shape: torch.Size([1, 64])\n",
      "Parameter containing:\n",
      "tensor([[-4.3140e-02,  1.1588e+00, -1.3642e-02,  1.1954e+00, -6.1497e-02,\n",
      "          1.2706e+00, -1.2481e-02,  2.5953e-02,  1.1776e+00, -9.5944e-03,\n",
      "         -1.0522e-01,  1.0188e-01, -8.4321e-02,  1.2128e+00, -3.3842e-02,\n",
      "          9.3421e-02, -1.1015e-03,  1.1578e+00, -2.2538e-02,  1.2903e+00,\n",
      "          4.5539e-02,  1.2633e+00, -3.9647e-02, -6.2902e-02,  1.1543e+00,\n",
      "          8.7068e-02, -9.6763e-03, -7.3679e-02, -3.1684e-02,  3.9657e-02,\n",
      "          5.0233e-02,  7.7249e-03,  1.2447e+00, -5.2424e+00,  1.1690e+00,\n",
      "          2.9576e-03,  6.9936e-03,  1.2220e-02,  1.3642e-02, -2.8973e-02,\n",
      "         -9.4582e-02,  3.6287e-02,  1.1879e+00, -1.1044e-01, -9.7026e-02,\n",
      "         -8.5296e-02,  1.1832e+00, -5.0223e-02,  1.2366e+00,  1.1639e+00,\n",
      "         -9.9072e-02, -5.2045e-02,  1.2246e+00,  1.5556e-02, -2.4457e-02,\n",
      "         -5.0960e-02,  1.2434e+00,  1.2712e+00, -2.5760e-02,  6.7431e-03,\n",
      "         -1.5742e-02,  1.0715e-01, -8.9674e-02, -3.0866e-04]], device='cuda:0',\n",
      "       requires_grad=True)\n",
      "\n",
      "Parameter name: output_layer.bias, Shape: torch.Size([1])\n",
      "Parameter containing:\n",
      "tensor([-0.0106], device='cuda:0', requires_grad=True)\n",
      "\n"
     ]
    }
   ],
   "source": [
    "# Model parameters\n",
    "for name, param in model.named_parameters():\n",
    "    print(f'Parameter name: {name}, Shape: {param.shape}')\n",
    "    print(param)\n",
    "    print()"
   ],
   "metadata": {
    "collapsed": false,
    "pycharm": {
     "name": "#%%\n"
    }
   }
  },
  {
   "cell_type": "code",
   "execution_count": 12,
   "outputs": [
    {
     "name": "stdout",
     "output_type": "stream",
     "text": [
      "Mean Squared Error on Test Data: 51298280.0\n",
      "Mean Absolute Error: 2799.16\n"
     ]
    }
   ],
   "source": [
    "model.load_state_dict({param_name: param for param_name, param in zip(model.state_dict().keys(), best_parameters)})\n",
    "\n",
    "model.eval()\n",
    "\n",
    "new_input = torch.FloatTensor(X_test.to_numpy()).to(device)\n",
    "y_test_tensor = torch.FloatTensor(y_test.to_numpy()).to(device)\n",
    "\n",
    "# Forward pass to get the prediction\n",
    "with torch.no_grad():\n",
    "    y_pred = model(new_input)\n",
    "\n",
    "# Mean Squared Error and Mean Absolute Error\n",
    "mse = nn.MSELoss()(y_pred.squeeze(), y_test_tensor)\n",
    "print(f'Mean Squared Error on Test Data: {mse.item()}')\n",
    "mae = nn.L1Loss()(y_pred.squeeze(), y_test_tensor)\n",
    "# mae = nn.L1Loss(y_pred, y_test_tensor.unsqueeze(dim=1))\n",
    "print(f'Mean Absolute Error: {mae:.2f}')"
   ],
   "metadata": {
    "collapsed": false,
    "pycharm": {
     "name": "#%%\n"
    }
   }
  },
  {
   "cell_type": "code",
   "execution_count": 32,
   "outputs": [
    {
     "data": {
      "text/plain": "      Model Year  Electric Range  Make_BMW  Make_CADILLAC  Make_CHRYSLER  \\\n3305        2016            93.0         0              0              0   \n1204        2017            14.0         1              0              0   \n903         2017            93.0         0              0              0   \n2785        2013           208.0         0              0              0   \n1080        2018            19.0         0              0              0   \n\n      Make_FISKER  Make_KIA  Make_MINI  Make_PORSCHE  Make_SUBARU  Make_TESLA  \\\n3305            0         1          0             0            0           0   \n1204            0         0          0             0            0           0   \n903             0         1          0             0            0           0   \n2785            0         0          0             0            0           1   \n1080            0         0          0             0            0           0   \n\n      Make_VOLVO  Make_WHEEGO ELECTRIC CARS  \n3305           0                          0  \n1204           0                          0  \n903            0                          0  \n2785           0                          0  \n1080           1                          0  ",
      "text/html": "<div>\n<style scoped>\n    .dataframe tbody tr th:only-of-type {\n        vertical-align: middle;\n    }\n\n    .dataframe tbody tr th {\n        vertical-align: top;\n    }\n\n    .dataframe thead th {\n        text-align: right;\n    }\n</style>\n<table border=\"1\" class=\"dataframe\">\n  <thead>\n    <tr style=\"text-align: right;\">\n      <th></th>\n      <th>Model Year</th>\n      <th>Electric Range</th>\n      <th>Make_BMW</th>\n      <th>Make_CADILLAC</th>\n      <th>Make_CHRYSLER</th>\n      <th>Make_FISKER</th>\n      <th>Make_KIA</th>\n      <th>Make_MINI</th>\n      <th>Make_PORSCHE</th>\n      <th>Make_SUBARU</th>\n      <th>Make_TESLA</th>\n      <th>Make_VOLVO</th>\n      <th>Make_WHEEGO ELECTRIC CARS</th>\n    </tr>\n  </thead>\n  <tbody>\n    <tr>\n      <th>3305</th>\n      <td>2016</td>\n      <td>93.0</td>\n      <td>0</td>\n      <td>0</td>\n      <td>0</td>\n      <td>0</td>\n      <td>1</td>\n      <td>0</td>\n      <td>0</td>\n      <td>0</td>\n      <td>0</td>\n      <td>0</td>\n      <td>0</td>\n    </tr>\n    <tr>\n      <th>1204</th>\n      <td>2017</td>\n      <td>14.0</td>\n      <td>1</td>\n      <td>0</td>\n      <td>0</td>\n      <td>0</td>\n      <td>0</td>\n      <td>0</td>\n      <td>0</td>\n      <td>0</td>\n      <td>0</td>\n      <td>0</td>\n      <td>0</td>\n    </tr>\n    <tr>\n      <th>903</th>\n      <td>2017</td>\n      <td>93.0</td>\n      <td>0</td>\n      <td>0</td>\n      <td>0</td>\n      <td>0</td>\n      <td>1</td>\n      <td>0</td>\n      <td>0</td>\n      <td>0</td>\n      <td>0</td>\n      <td>0</td>\n      <td>0</td>\n    </tr>\n    <tr>\n      <th>2785</th>\n      <td>2013</td>\n      <td>208.0</td>\n      <td>0</td>\n      <td>0</td>\n      <td>0</td>\n      <td>0</td>\n      <td>0</td>\n      <td>0</td>\n      <td>0</td>\n      <td>0</td>\n      <td>1</td>\n      <td>0</td>\n      <td>0</td>\n    </tr>\n    <tr>\n      <th>1080</th>\n      <td>2018</td>\n      <td>19.0</td>\n      <td>0</td>\n      <td>0</td>\n      <td>0</td>\n      <td>0</td>\n      <td>0</td>\n      <td>0</td>\n      <td>0</td>\n      <td>0</td>\n      <td>0</td>\n      <td>1</td>\n      <td>0</td>\n    </tr>\n  </tbody>\n</table>\n</div>"
     },
     "execution_count": 32,
     "metadata": {},
     "output_type": "execute_result"
    }
   ],
   "source": [
    "X_test.head()"
   ],
   "metadata": {
    "collapsed": false,
    "pycharm": {
     "name": "#%%\n"
    }
   }
  },
  {
   "cell_type": "code",
   "execution_count": 31,
   "outputs": [
    {
     "data": {
      "text/plain": "<Figure size 432x288 with 1 Axes>",
      "image/png": "[encoded data removed]"
     },
     "metadata": {
      "needs_background": "light"
     },
     "output_type": "display_data"
    }
   ],
   "source": [
    "# visualization\n",
    "sns.scatterplot(x=X_test['Electric Range'].to_numpy(), y=y_test.to_numpy(), label='Actual')\n",
    "sns.scatterplot(x=X_test['Electric Range'].to_numpy(), y=y_pred.squeeze().cpu().numpy(), label='Predicted')\n",
    "plt.xlabel('Electric Range')\n",
    "plt.ylabel('Base MSRP')\n",
    "plt.title('Actual vs Predicted Labels')\n",
    "plt.legend()\n",
    "plt.show()"
   ],
   "metadata": {
    "collapsed": false,
    "pycharm": {
     "name": "#%%\n"
    }
   }
  }
 ],
 "metadata": {
  "kernelspec": {
   "display_name": "Python 3",
   "language": "python",
   "name": "python3"
  },
  "language_info": {
   "codemirror_mode": {
    "name": "ipython",
    "version": 2
   },
   "file_extension": ".py",
   "mimetype": "text/x-python",
   "name": "python",
   "nbconvert_exporter": "python",
   "pygments_lexer": "ipython2",
   "version": "2.7.6"
  }
 },
 "nbformat": 4,
 "nbformat_minor": 0
}