{
 "cells": [
  {
   "cell_type": "code",
   "execution_count": 1,
   "metadata": {
    "collapsed": true
   },
   "outputs": [],
   "source": [
    "import numpy as np\n",
    "import pandas as pd\n",
    "import matplotlib.pyplot as plt\n",
    "import seaborn as sns\n",
    "\n",
    "import torch\n",
    "from torch.nn import Sequential, Linear\n",
    "from torch.optim import SGD"
   ]
  },
  {
   "cell_type": "code",
   "execution_count": 2,
   "outputs": [
    {
     "data": {
      "text/plain": "   Model Year   Make    Model  Electric Range  Base MSRP  \\\n0        2013  TESLA  MODEL S           208.0    69900.0   \n1        2018  VOLVO     XC60            17.0    52900.0   \n2        2013  TESLA  MODEL S           208.0    69900.0   \n3        2014  TESLA  MODEL S           208.0    69900.0   \n4        2018    BMW     330E            14.0    45600.0   \n\n                    Electric Vehicle Type  \\\n0          Battery Electric Vehicle (BEV)   \n1  Plug-in Hybrid Electric Vehicle (PHEV)   \n2          Battery Electric Vehicle (BEV)   \n3          Battery Electric Vehicle (BEV)   \n4  Plug-in Hybrid Electric Vehicle (PHEV)   \n\n  Clean Alternative Fuel Vehicle (CAFV) Eligibility  Legislative District  \\\n0           Clean Alternative Fuel Vehicle Eligible                  21.0   \n1             Not eligible due to low battery range                  10.0   \n2           Clean Alternative Fuel Vehicle Eligible                  40.0   \n3           Clean Alternative Fuel Vehicle Eligible                  17.0   \n4             Not eligible due to low battery range                  45.0   \n\n                                    Electric Utility  \n0                             PUGET SOUND ENERGY INC  \n1                             PUGET SOUND ENERGY INC  \n2                             PUGET SOUND ENERGY INC  \n3  BONNEVILLE POWER ADMINISTRATION||PUD NO 1 OF C...  \n4      PUGET SOUND ENERGY INC||CITY OF TACOMA - (WA)  ",
      "text/html": "<div>\n<style scoped>\n    .dataframe tbody tr th:only-of-type {\n        vertical-align: middle;\n    }\n\n    .dataframe tbody tr th {\n        vertical-align: top;\n    }\n\n    .dataframe thead th {\n        text-align: right;\n    }\n</style>\n<table border=\"1\" class=\"dataframe\">\n  <thead>\n    <tr style=\"text-align: right;\">\n      <th></th>\n      <th>Model Year</th>\n      <th>Make</th>\n      <th>Model</th>\n      <th>Electric Range</th>\n      <th>Base MSRP</th>\n      <th>Electric Vehicle Type</th>\n      <th>Clean Alternative Fuel Vehicle (CAFV) Eligibility</th>\n      <th>Legislative District</th>\n      <th>Electric Utility</th>\n    </tr>\n  </thead>\n  <tbody>\n    <tr>\n      <th>0</th>\n      <td>2013</td>\n      <td>TESLA</td>\n      <td>MODEL S</td>\n      <td>208.0</td>\n      <td>69900.0</td>\n      <td>Battery Electric Vehicle (BEV)</td>\n      <td>Clean Alternative Fuel Vehicle Eligible</td>\n      <td>21.0</td>\n      <td>PUGET SOUND ENERGY INC</td>\n    </tr>\n    <tr>\n      <th>1</th>\n      <td>2018</td>\n      <td>VOLVO</td>\n      <td>XC60</td>\n      <td>17.0</td>\n      <td>52900.0</td>\n      <td>Plug-in Hybrid Electric Vehicle (PHEV)</td>\n      <td>Not eligible due to low battery range</td>\n      <td>10.0</td>\n      <td>PUGET SOUND ENERGY INC</td>\n    </tr>\n    <tr>\n      <th>2</th>\n      <td>2013</td>\n      <td>TESLA</td>\n      <td>MODEL S</td>\n      <td>208.0</td>\n      <td>69900.0</td>\n      <td>Battery Electric Vehicle (BEV)</td>\n      <td>Clean Alternative Fuel Vehicle Eligible</td>\n      <td>40.0</td>\n      <td>PUGET SOUND ENERGY INC</td>\n    </tr>\n    <tr>\n      <th>3</th>\n      <td>2014</td>\n      <td>TESLA</td>\n      <td>MODEL S</td>\n      <td>208.0</td>\n      <td>69900.0</td>\n      <td>Battery Electric Vehicle (BEV)</td>\n      <td>Clean Alternative Fuel Vehicle Eligible</td>\n      <td>17.0</td>\n      <td>BONNEVILLE POWER ADMINISTRATION||PUD NO 1 OF C...</td>\n    </tr>\n    <tr>\n      <th>4</th>\n      <td>2018</td>\n      <td>BMW</td>\n      <td>330E</td>\n      <td>14.0</td>\n      <td>45600.0</td>\n      <td>Plug-in Hybrid Electric Vehicle (PHEV)</td>\n      <td>Not eligible due to low battery range</td>\n      <td>45.0</td>\n      <td>PUGET SOUND ENERGY INC||CITY OF TACOMA - (WA)</td>\n    </tr>\n  </tbody>\n</table>\n</div>"
     },
     "execution_count": 2,
     "metadata": {},
     "output_type": "execute_result"
    }
   ],
   "source": [
    "df = pd.read_csv('datasets/electric_veh_reduced.csv')\n",
    "df.head()"
   ],
   "metadata": {
    "collapsed": false,
    "pycharm": {
     "name": "#%%\n"
    }
   }
  },
  {
   "cell_type": "code",
   "execution_count": 11,
   "outputs": [
    {
     "name": "stdout",
     "output_type": "stream",
     "text": [
      "(3407, 13)\n"
     ]
    },
    {
     "data": {
      "text/plain": "   Model Year  Electric Range  Make_BMW  Make_CADILLAC  Make_CHRYSLER  \\\n0        2013           208.0         0              0              0   \n1        2018            17.0         0              0              0   \n2        2013           208.0         0              0              0   \n3        2014           208.0         0              0              0   \n4        2018            14.0         1              0              0   \n5        2019            17.0         0              0              0   \n6        2013           208.0         0              0              0   \n7        2013           208.0         0              0              0   \n8        2014           208.0         0              0              0   \n9        2014           208.0         0              0              0   \n\n   Make_FISKER  Make_KIA  Make_MINI  Make_PORSCHE  Make_SUBARU  Make_TESLA  \\\n0            0         0          0             0            0           1   \n1            0         0          0             0            0           0   \n2            0         0          0             0            0           1   \n3            0         0          0             0            0           1   \n4            0         0          0             0            0           0   \n5            0         0          0             0            0           0   \n6            0         0          0             0            0           1   \n7            0         0          0             0            0           1   \n8            0         0          0             0            0           1   \n9            0         0          0             0            0           1   \n\n   Make_VOLVO  Make_WHEEGO ELECTRIC CARS  \n0           0                          0  \n1           1                          0  \n2           0                          0  \n3           0                          0  \n4           0                          0  \n5           1                          0  \n6           0                          0  \n7           0                          0  \n8           0                          0  \n9           0                          0  ",
      "text/html": "<div>\n<style scoped>\n    .dataframe tbody tr th:only-of-type {\n        vertical-align: middle;\n    }\n\n    .dataframe tbody tr th {\n        vertical-align: top;\n    }\n\n    .dataframe thead th {\n        text-align: right;\n    }\n</style>\n<table border=\"1\" class=\"dataframe\">\n  <thead>\n    <tr style=\"text-align: right;\">\n      <th></th>\n      <th>Model Year</th>\n      <th>Electric Range</th>\n      <th>Make_BMW</th>\n      <th>Make_CADILLAC</th>\n      <th>Make_CHRYSLER</th>\n      <th>Make_FISKER</th>\n      <th>Make_KIA</th>\n      <th>Make_MINI</th>\n      <th>Make_PORSCHE</th>\n      <th>Make_SUBARU</th>\n      <th>Make_TESLA</th>\n      <th>Make_VOLVO</th>\n      <th>Make_WHEEGO ELECTRIC CARS</th>\n    </tr>\n  </thead>\n  <tbody>\n    <tr>\n      <th>0</th>\n      <td>2013</td>\n      <td>208.0</td>\n      <td>0</td>\n      <td>0</td>\n      <td>0</td>\n      <td>0</td>\n      <td>0</td>\n      <td>0</td>\n      <td>0</td>\n      <td>0</td>\n      <td>1</td>\n      <td>0</td>\n      <td>0</td>\n    </tr>\n    <tr>\n      <th>1</th>\n      <td>2018</td>\n      <td>17.0</td>\n      <td>0</td>\n      <td>0</td>\n      <td>0</td>\n      <td>0</td>\n      <td>0</td>\n      <td>0</td>\n      <td>0</td>\n      <td>0</td>\n      <td>0</td>\n      <td>1</td>\n      <td>0</td>\n    </tr>\n    <tr>\n      <th>2</th>\n      <td>2013</td>\n      <td>208.0</td>\n      <td>0</td>\n      <td>0</td>\n      <td>0</td>\n      <td>0</td>\n      <td>0</td>\n      <td>0</td>\n      <td>0</td>\n      <td>0</td>\n      <td>1</td>\n      <td>0</td>\n      <td>0</td>\n    </tr>\n    <tr>\n      <th>3</th>\n      <td>2014</td>\n      <td>208.0</td>\n      <td>0</td>\n      <td>0</td>\n      <td>0</td>\n      <td>0</td>\n      <td>0</td>\n      <td>0</td>\n      <td>0</td>\n      <td>0</td>\n      <td>1</td>\n      <td>0</td>\n      <td>0</td>\n    </tr>\n    <tr>\n      <th>4</th>\n      <td>2018</td>\n      <td>14.0</td>\n      <td>1</td>\n      <td>0</td>\n      <td>0</td>\n      <td>0</td>\n      <td>0</td>\n      <td>0</td>\n      <td>0</td>\n      <td>0</td>\n      <td>0</td>\n      <td>0</td>\n      <td>0</td>\n    </tr>\n    <tr>\n      <th>5</th>\n      <td>2019</td>\n      <td>17.0</td>\n      <td>0</td>\n      <td>0</td>\n      <td>0</td>\n      <td>0</td>\n      <td>0</td>\n      <td>0</td>\n      <td>0</td>\n      <td>0</td>\n      <td>0</td>\n      <td>1</td>\n      <td>0</td>\n    </tr>\n    <tr>\n      <th>6</th>\n      <td>2013</td>\n      <td>208.0</td>\n      <td>0</td>\n      <td>0</td>\n      <td>0</td>\n      <td>0</td>\n      <td>0</td>\n      <td>0</td>\n      <td>0</td>\n      <td>0</td>\n      <td>1</td>\n      <td>0</td>\n      <td>0</td>\n    </tr>\n    <tr>\n      <th>7</th>\n      <td>2013</td>\n      <td>208.0</td>\n      <td>0</td>\n      <td>0</td>\n      <td>0</td>\n      <td>0</td>\n      <td>0</td>\n      <td>0</td>\n      <td>0</td>\n      <td>0</td>\n      <td>1</td>\n      <td>0</td>\n      <td>0</td>\n    </tr>\n    <tr>\n      <th>8</th>\n      <td>2014</td>\n      <td>208.0</td>\n      <td>0</td>\n      <td>0</td>\n      <td>0</td>\n      <td>0</td>\n      <td>0</td>\n      <td>0</td>\n      <td>0</td>\n      <td>0</td>\n      <td>1</td>\n      <td>0</td>\n      <td>0</td>\n    </tr>\n    <tr>\n      <th>9</th>\n      <td>2014</td>\n      <td>208.0</td>\n      <td>0</td>\n      <td>0</td>\n      <td>0</td>\n      <td>0</td>\n      <td>0</td>\n      <td>0</td>\n      <td>0</td>\n      <td>0</td>\n      <td>1</td>\n      <td>0</td>\n      <td>0</td>\n    </tr>\n  </tbody>\n</table>\n</div>"
     },
     "execution_count": 11,
     "metadata": {},
     "output_type": "execute_result"
    }
   ],
   "source": [
    "X = df[['Model Year', 'Electric Range', 'Make']]\n",
    "y = df['Base MSRP']\n",
    "\n",
    "X_encoded = pd.get_dummies(X, columns=['Make'])\n",
    "# X_encoded = X_encoded.drop('Make', axis=1)\n",
    "print(X_encoded.shape)\n",
    "X_encoded.head(10)"
   ],
   "metadata": {
    "collapsed": false,
    "pycharm": {
     "name": "#%%\n"
    }
   }
  },
  {
   "cell_type": "code",
   "execution_count": 49,
   "outputs": [
    {
     "name": "stdout",
     "output_type": "stream",
     "text": [
      "cuda\n",
      "(2725, 13) (2725,)\n"
     ]
    }
   ],
   "source": [
    "import torch\n",
    "import torch.nn as nn\n",
    "import torch.optim as optim\n",
    "from torch.utils.data import DataLoader, TensorDataset\n",
    "from sklearn.model_selection import train_test_split\n",
    "\n",
    "# setting device to gpu\n",
    "device = torch.device('cuda' if torch.cuda.is_available() else 'cpu')\n",
    "print(device)\n",
    "\n",
    "\n",
    "X_train, X_temp, y_train, y_temp = train_test_split(X_encoded, y, test_size=0.2, random_state=42)\n",
    "\n",
    "# splitting the temporary set into validation and test sets\n",
    "X_val, X_test, y_val, y_test = train_test_split(X_temp, y_temp, test_size=0.5, random_state=42)\n",
    "\n",
    "print(X_train.shape, y_train.shape)\n",
    "X_train_np = X_train.to_numpy()\n",
    "y_train_np = y_train.to_numpy()\n",
    "X_val_np = X_val.to_numpy()\n",
    "y_val_np = y_val.to_numpy()\n",
    "# Convert NumPy arrays to PyTorch tensors\n",
    "features_tensor = torch.FloatTensor(X_train_np)\n",
    "labels_tensor = torch.FloatTensor(y_train_np)\n",
    "X_val_tensor = torch.FloatTensor(X_val_np)\n",
    "y_val_tensor = torch.FloatTensor(y_val_np)\n",
    "\n",
    "# Create a DataLoader\n",
    "dataset = TensorDataset(features_tensor, labels_tensor)\n",
    "dataloader = DataLoader(dataset, batch_size=64, shuffle=True)\n",
    "# X_train.head()"
   ],
   "metadata": {
    "collapsed": false,
    "pycharm": {
     "name": "#%%\n"
    }
   }
  },
  {
   "cell_type": "code",
   "execution_count": 93,
   "outputs": [
    {
     "name": "stdout",
     "output_type": "stream",
     "text": [
      "ElectricVehicleModel(\n",
      "  (l1): Linear(in_features=13, out_features=256, bias=True)\n",
      "  (relu1): ReLU()\n",
      "  (output_layer): Linear(in_features=256, out_features=1, bias=True)\n",
      ")\n",
      "Epoch 100/1000, Loss: 220389984.00, Val Loss: 154298560.00, MAE: 9305.137695\n",
      "Epoch 200/1000, Loss: 167977744.00, Val Loss: 142322928.00, MAE: 8362.394531\n",
      "Epoch 300/1000, Loss: 174756240.00, Val Loss: 125671216.00, MAE: 7851.791992\n",
      "Epoch 400/1000, Loss: 105620456.00, Val Loss: 102835920.00, MAE: 7137.706543\n",
      "Epoch 500/1000, Loss: 45727192.00, Val Loss: 75428624.00, MAE: 5584.316895\n",
      "Epoch 600/1000, Loss: 129233800.00, Val Loss: 60486196.00, MAE: 3904.470947\n",
      "Epoch 700/1000, Loss: 68045448.00, Val Loss: 57264944.00, MAE: 3328.171875\n",
      "Epoch 800/1000, Loss: 68458048.00, Val Loss: 53909292.00, MAE: 3132.097412\n",
      "Epoch 900/1000, Loss: 16708984.00, Val Loss: 50273732.00, MAE: 3134.474365\n",
      "Epoch 1000/1000, Loss: 50664724.00, Val Loss: 48743104.00, MAE: 3285.125000\n"
     ]
    }
   ],
   "source": [
    "class ElectricVehicleModel(nn.Module):\n",
    "    def __init__(self, input_size):\n",
    "        super(ElectricVehicleModel, self).__init__()\n",
    "        self.l1 = nn.Linear(input_size, 256)\n",
    "        self.relu1 = nn.ReLU()\n",
    "        self.output_layer = nn.Linear(256, 1)\n",
    "\n",
    "    def forward(self, x):\n",
    "        x = self.relu1(self.l1(x))\n",
    "        x = self.output_layer(x)\n",
    "        return x\n",
    "\n",
    "# instantiate the model\n",
    "model = ElectricVehicleModel(X_train.shape[1])\n",
    "# Define loss function and optimizer\n",
    "criterion = nn.MSELoss()\n",
    "optimizer = optim.Adam(model.parameters(), lr=0.001)\n",
    "\n",
    "# Move model to GPU if available\n",
    "model.to(device)\n",
    "# features_tensor = features_tensor.to(device)\n",
    "# labels_tensor = labels_tensor.to(device)\n",
    "# Print the model architecture\n",
    "print(model)\n",
    "\n",
    "# Lists to store parameters and loss history\n",
    "parameters_history = []\n",
    "loss_history = []\n",
    "loss_history_mae = []\n",
    "best_loss = float('inf')\n",
    "best_parameters = None\n",
    "\n",
    "for param in model.parameters():\n",
    "    param.to(device)\n",
    "\n",
    "# Training loop\n",
    "num_epochs = 1000\n",
    "for epoch in range(num_epochs):\n",
    "    for batch_features, batch_labels in dataloader:\n",
    "        batch_features, batch_labels = batch_features.to(device), batch_labels.to(device)\n",
    "        optimizer.zero_grad()\n",
    "        outputs = model(batch_features)\n",
    "        loss = criterion(outputs, batch_labels.view(-1, 1))\n",
    "        loss.backward()\n",
    "        optimizer.step()\n",
    "    # Store parameters and loss at the end of each epoch\n",
    "    if loss.item() < best_loss:\n",
    "        best_loss = loss.item()\n",
    "        best_parameters = [param.data.clone() for param in model.parameters()]\n",
    "    parameters_history.append([param.data.clone() for param in model.parameters()])\n",
    "    loss_history.append(loss.item())\n",
    "\n",
    "    # if epoch % 10 == 0:\n",
    "    #     print(f'Epoch [{epoch+1}/{num_epochs}], Loss: {loss.item():.4f}')\n",
    "\n",
    "    # Validation\n",
    "    model.eval()\n",
    "    with torch.no_grad():\n",
    "        val_outputs = model(X_val_tensor.to(device))\n",
    "        val_loss = criterion(val_outputs.squeeze(), y_val_tensor.to(device))\n",
    "        mae_loss = nn.L1Loss()(val_outputs.squeeze(), y_val_tensor.to(device))\n",
    "        loss_history_mae.append(mae_loss.item())\n",
    "\n",
    "    if (epoch+1) % 100 == 0:\n",
    "        print(f'Epoch {epoch+1}/{num_epochs}, Loss: {loss.item():.2f}, Val Loss: {val_loss.item():.2f}, MAE: {mae_loss.item():2f}')"
   ],
   "metadata": {
    "collapsed": false,
    "pycharm": {
     "name": "#%%\n"
    }
   }
  },
  {
   "cell_type": "code",
   "execution_count": 94,
   "outputs": [
    {
     "data": {
      "text/plain": "<Figure size 720x360 with 2 Axes>",
      "image/png": "[encoded data removed]"
     },
     "metadata": {
      "needs_background": "light"
     },
     "output_type": "display_data"
    }
   ],
   "source": [
    "fig, ax = plt.subplots(1, 2, figsize=(10, 5))\n",
    "\n",
    "sns.lineplot(x=range(num_epochs), y=loss_history, ax=ax[0])\n",
    "ax[0].set_title('Training Loss Over Epochs')\n",
    "ax[0].set_xlabel('Epochs')\n",
    "ax[0].set_ylabel('Loss')\n",
    "sns.lineplot(x=range(num_epochs), y=loss_history_mae, ax=ax[1])\n",
    "ax[1].set_title('Training MAE Over Epochs')\n",
    "ax[1].set_xlabel('Epochs')\n",
    "ax[1].set_ylabel('MAE')\n",
    "fig.tight_layout()\n",
    "plt.show()"
   ],
   "metadata": {
    "collapsed": false,
    "pycharm": {
     "name": "#%%\n"
    }
   }
  },
  {
   "cell_type": "code",
   "execution_count": 95,
   "outputs": [
    {
     "data": {
      "text/plain": "(5108898.5,\n [tensor([[-1.5311e-01,  1.3795e-01, -3.7548e-04,  ..., -1.4413e-02,\n           -4.6494e-02,  5.9654e-03],\n          [ 2.2787e-01, -3.6755e-01,  1.6348e+01,  ...,  2.0477e+01,\n            2.2295e+01, -5.8098e+00],\n          [ 1.3769e-02, -1.7538e-02,  1.6661e+01,  ...,  2.1418e+01,\n            2.3121e+01, -6.0593e+00],\n          ...,\n          [-6.3616e-02,  2.2606e-01,  1.8409e-01,  ...,  6.8507e-02,\n           -9.6002e-02, -6.6417e-03],\n          [ 1.6896e-01,  5.0523e-02,  1.6367e+01,  ...,  2.0623e+01,\n            2.2376e+01, -6.2087e+00],\n          [-5.9722e-02, -2.3300e-01, -1.6635e-01,  ..., -9.4198e-02,\n            2.2164e-01,  3.9399e-03]], device='cuda:0'),\n  tensor([-0.2214,  0.1468,  0.1588, -0.2448,  0.1747,  0.1565, -0.1423, -0.2411,\n          -0.0650,  0.0929, -0.0515,  0.2132,  0.1017, -0.1608,  0.1458,  0.2517,\n          -0.1103,  0.1343, -0.1257,  0.0238,  0.0413,  0.0680,  0.0322, -0.0165,\n          -0.0060, -0.1217, -0.0871, -0.2118, -0.3038,  0.0625, -0.2035, -0.0844,\n          -0.1936,  0.1100, -0.1355, -0.0043,  0.2095,  0.1961, -0.2529, -0.0612,\n           0.2216,  0.2477,  0.1624,  0.1841, -0.0478, -0.2440, -0.2643, -0.1650,\n          -0.0354, -0.2590,  0.1477,  0.0500, -0.2701,  0.0022, -0.2570, -0.1360,\n          -0.0519, -0.1467,  0.0283, -0.0663, -0.1005,  0.1657, -0.1733,  0.1101,\n          -0.0522, -0.0149, -0.2532, -0.0493, -0.0349,  0.2807,  0.0531, -0.0781,\n          -0.0022, -0.1659,  0.0471,  0.0062,  0.0590, -0.0202, -0.2518,  0.1923,\n          -0.1322,  0.0980, -0.1792, -0.0567, -0.1239,  0.0308, -0.0151, -0.2466,\n           0.1330, -0.2126, -0.1169, -0.1699, -0.1669, -0.3262, -0.1601, -0.2449,\n           0.2335, -0.0755, -0.1386, -0.1091, -0.2641,  0.0181, -0.1643,  0.0252,\n          -0.0791, -0.1874, -0.1980,  0.0190,  0.1519,  0.1852, -0.2835,  0.0309,\n          -0.0034,  0.2084,  0.0762, -0.0542,  0.2221,  0.0793, -0.1431,  0.0087,\n          -0.2038,  0.0063, -0.2596, -0.0141,  0.1698, -0.3459, -0.0557, -0.1404,\n          -0.2465, -0.0493, -0.2016, -0.1980, -0.2726, -0.0615,  0.2192, -0.0835,\n          -0.1225,  0.1942,  0.2765, -0.2247, -0.1763, -0.2389, -0.1609,  0.1248,\n           0.1558, -0.1947, -0.2344, -0.2478,  0.1750, -0.2314,  0.2733,  0.1710,\n           0.1707,  0.2680, -0.0169, -0.2313,  0.0478,  0.0048, -0.1135,  0.0668,\n           0.1029, -0.0181,  0.1329,  0.0119, -0.2040,  0.0419, -0.1679, -0.0738,\n           0.1923,  0.1362,  0.1607, -0.1950,  0.0970,  0.0551, -0.2197, -0.1744,\n          -0.0521, -0.0256, -0.2381, -0.2423,  0.0898,  0.1720, -0.2021,  0.0883,\n          -0.1632, -0.2588,  0.2488, -0.2347, -0.1846, -0.0389, -0.1950,  0.0413,\n          -0.1368,  0.1668, -0.0237, -0.2365, -0.1959, -0.1512, -0.0881,  0.0789,\n           0.1921,  0.2467,  0.0275, -0.0779,  0.1400, -0.1492,  0.2736, -0.6652,\n           0.0531, -0.4294, -0.2706, -0.0758, -0.0788,  0.0042, -0.2562, -0.2026,\n          -0.2435, -0.0330,  0.0305,  0.1233,  0.2540, -0.0199,  0.0031, -0.2096,\n          -0.1452, -0.1555,  0.0388, -0.0524, -0.3020, -0.0566,  0.2005, -0.2578,\n           0.0981,  0.2420,  0.3268,  0.0443,  0.1438, -0.1530,  0.0211,  0.1768,\n          -0.0612, -0.0142, -0.2628,  0.1689, -0.3170,  0.1966,  0.1446,  0.0134,\n          -0.1590,  0.2207,  0.2401,  0.2332, -0.0395,  0.0232,  0.0666,  0.0768],\n         device='cuda:0'),\n  tensor([[-3.9990e-03,  1.2998e+00,  4.4423e+00,  1.8897e-02, -3.8051e-02,\n           -4.2176e-02,  2.0763e+00,  1.8231e+00,  1.2969e+00,  1.7071e+00,\n            1.7104e-02,  3.1420e+00, -7.9509e-03, -4.6069e-02,  5.3917e+00,\n            6.3628e+00, -5.0548e-02,  2.5518e-03, -3.4356e-02,  1.8216e+00,\n            3.3012e+00, -3.6930e-02,  5.5801e+00,  1.9981e+00,  1.4076e-02,\n            1.2479e+00,  6.0854e-03,  6.2137e+00,  8.2368e+00,  4.1000e-02,\n           -3.1353e-03,  1.3044e-02,  4.9413e+00,  4.7223e+00,  5.6714e-02,\n            1.7322e+00,  1.4303e+00,  2.7255e-02,  2.5475e-02, -1.0134e-03,\n            4.4851e-02,  5.2741e-02,  6.2698e+00,  1.6966e+00,  2.6845e-02,\n            2.1964e+00,  6.8884e+00,  1.3506e+00,  1.4651e+00,  5.4896e+00,\n            3.7629e+00, -2.3880e-02,  1.7715e+00,  1.4778e+00,  5.1290e-02,\n            9.8536e-03,  1.7739e+00,  2.3380e+00,  4.6108e+00,  5.3621e+00,\n            2.1419e+00, -5.5003e-02,  5.2618e+00,  1.6757e+00,  4.5961e+00,\n            1.9045e+00,  1.5581e+00,  3.1418e-02,  2.2051e+00,  4.4825e+00,\n           -9.6120e-03,  1.9281e+00, -1.5128e-02,  7.0980e-03,  2.9641e+00,\n            1.4471e+00,  7.0067e+00,  1.9935e-02,  1.3945e+00, -1.2463e-02,\n            2.7648e-02,  4.4419e+00,  5.6280e-02, -2.7123e-02,  2.5736e+00,\n           -2.8600e-02,  1.2831e+00,  1.7080e+00,  3.9882e+00,  1.5327e+00,\n            2.4462e+00,  2.8612e+00,  8.1085e-03,  1.7286e+00,  1.6129e+00,\n           -3.2961e-02, -9.0995e-03,  2.0351e+00, -5.5036e-02,  4.7702e+00,\n            1.6366e-02,  1.3485e+00, -2.5392e-03,  5.1508e-02,  3.5698e+00,\n            5.9888e-02,  4.1392e-02, -3.7683e-02,  1.9034e+00,  7.5873e+00,\n            2.1497e+00,  3.1155e+00,  1.5841e+00,  1.6901e+00,  1.6543e+00,\n            5.4208e-02, -4.6396e-02,  5.4933e-02,  4.0480e+00, -1.6851e-02,\n           -1.1221e-02,  2.7247e-02,  3.8130e+00, -5.5841e-03,  4.2298e-02,\n            1.7952e+00, -4.2841e-02, -5.6948e-02,  2.4487e+00,  2.5540e-02,\n           -5.9234e-02,  2.1520e-02, -2.8946e-02,  3.6059e-02,  3.8049e+00,\n            5.4887e-03,  2.5433e-02,  1.4407e+00,  5.5127e-02,  2.1715e+00,\n           -7.1493e-03, -3.8923e-02,  5.5256e+00,  1.7922e+00, -3.5758e-02,\n            2.5376e-02, -3.0938e-02,  1.5362e+00, -6.0535e-02, -6.0614e-03,\n            3.8572e-02,  5.7397e-02,  6.1118e+00, -5.6048e-02, -3.8007e-02,\n            1.3362e+00, -4.0726e-02, -4.6875e-02,  2.3104e-02,  4.7412e+00,\n            2.3657e+00,  3.9518e-04,  1.2976e+00,  2.1903e+00,  1.6029e+00,\n            1.3602e-02,  2.0054e-02,  2.7491e-02,  5.4818e-03,  5.4211e+00,\n           -3.6855e-02,  2.2602e+00,  5.1336e-02,  3.6142e-02,  1.6771e+00,\n            4.7348e-02,  2.3633e+00,  2.9519e+00, -2.3261e-02, -5.8288e-02,\n           -1.0300e-03,  3.0349e+00, -3.2928e-02,  1.6340e+00,  5.5148e-03,\n           -1.6708e-02, -4.9783e-02,  2.1569e+00,  4.9401e-04,  6.5022e+00,\n           -2.6822e-02,  1.7364e+00,  1.8984e+00,  5.2684e-02,  1.8056e+00,\n            2.9140e-03,  3.5977e+00,  3.7154e+00, -1.7554e-02,  1.1835e-02,\n            4.5646e+00, -3.5062e-02,  1.3452e+00,  1.5290e+00,  1.5398e-02,\n           -3.7452e-02, -2.4950e-02,  1.5907e+01,  1.5665e+00,  3.5144e+00,\n            1.5720e+00,  3.1554e-02, -2.8199e-02,  6.7619e-03,  2.9627e-02,\n            1.5543e+00, -9.5615e-03, -3.6823e-02, -3.4049e-02,  3.2355e+00,\n           -3.0276e-02,  1.4788e+00,  5.1833e+00, -2.0831e-02,  2.1818e-03,\n            5.0068e+00,  5.6647e-02,  3.1124e+00,  2.7328e+00,  4.5965e+00,\n            3.4606e-02,  7.2224e+00,  1.4589e+00,  1.7898e-02,  5.4892e+00,\n            2.8704e-02,  5.4934e+00, -3.9959e-02,  1.3462e+00,  6.5690e-03,\n            1.4552e+00, -3.5562e-02,  1.4459e+00,  3.3706e+00,  7.8329e+00,\n            4.4041e+00,  5.7108e+00,  3.4094e+00,  2.8969e+00, -2.2037e-02,\n            5.9990e+00,  5.5964e-03, -3.0939e-02, -6.0106e-02,  1.3968e+00,\n            2.7046e-02]], device='cuda:0'),\n  tensor([-0.1015], device='cuda:0')])"
     },
     "execution_count": 95,
     "metadata": {},
     "output_type": "execute_result"
    }
   ],
   "source": [
    "best_loss, best_parameters"
   ],
   "metadata": {
    "collapsed": false,
    "pycharm": {
     "name": "#%%\n"
    }
   }
  },
  {
   "cell_type": "code",
   "execution_count": 96,
   "outputs": [
    {
     "name": "stdout",
     "output_type": "stream",
     "text": [
      "Mean Squared Error on Test Data: 76035024.0\n",
      "Mean Absolute Error: 4032.01\n"
     ]
    }
   ],
   "source": [
    "model.load_state_dict({param_name: param for param_name, param in zip(model.state_dict().keys(), best_parameters)})\n",
    "\n",
    "# Set the model to evaluation mode\n",
    "model.eval()\n",
    "\n",
    "# new_input = torch.FloatTensor([[3, 132.0, 80.0, 40.0, 102.0, 36.2, 0.442, 42]])  # Replace '...' with your actual input values\n",
    "new_input = torch.FloatTensor(X_test.to_numpy()).to(device)\n",
    "y_test_tensor = torch.FloatTensor(y_test.to_numpy()).to(device)\n",
    "\n",
    "# Forward pass to get the prediction\n",
    "with torch.no_grad():\n",
    "    y_pred = model(new_input)\n",
    "\n",
    "# Calculate Mean Squared Error\n",
    "mse = nn.MSELoss()(y_pred.squeeze(), y_test_tensor)\n",
    "print(f'Mean Squared Error on Test Data: {mse.item()}')\n",
    "mae = nn.L1Loss()(y_pred.squeeze(), y_test_tensor)\n",
    "# mae = nn.L1Loss(y_pred, y_test_tensor.unsqueeze(dim=1))\n",
    "print(f'Mean Absolute Error: {mae:.2f}')\n",
    "\n"
   ],
   "metadata": {
    "collapsed": false,
    "pycharm": {
     "name": "#%%\n"
    }
   }
  }
 ],
 "metadata": {
  "kernelspec": {
   "display_name": "Python 3",
   "language": "python",
   "name": "python3"
  },
  "language_info": {
   "codemirror_mode": {
    "name": "ipython",
    "version": 2
   },
   "file_extension": ".py",
   "mimetype": "text/x-python",
   "name": "python",
   "nbconvert_exporter": "python",
   "pygments_lexer": "ipython2",
   "version": "2.7.6"
  }
 },
 "nbformat": 4,
 "nbformat_minor": 0
}